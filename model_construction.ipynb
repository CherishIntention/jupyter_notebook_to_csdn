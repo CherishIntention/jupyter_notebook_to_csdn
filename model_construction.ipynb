{
 "cells": [
  {
   "cell_type": "markdown",
   "id": "ffac3e28",
   "metadata": {},
   "source": [
    "### 模型构造"
   ]
  },
  {
   "cell_type": "markdown",
   "id": "c6fcb8cc",
   "metadata": {},
   "source": [
    "#### Block类是nn模块里提供的一个模型构造类，使用它可以用来定义我们想要的模型。下面继承Block类构造多层感知机。这里定义的MLP类重载了Block类的__init__函数和forward函数。它们分别用于创造模型参数和定义前向计算。"
   ]
  },
  {
   "cell_type": "code",
   "execution_count": 4,
   "id": "a99f3af1",
   "metadata": {},
   "outputs": [],
   "source": [
    "from mxnet import gluon, nd\n",
    "from mxnet.gluon import nn"
   ]
  },
  {
   "cell_type": "code",
   "execution_count": 7,
   "id": "233fb881",
   "metadata": {},
   "outputs": [],
   "source": [
    "class MLP(nn.Block):\n",
    "    def __init__(self, **kwargs):\n",
    "        super(MLP, self).__init__(**kwargs)\n",
    "        self.hidden = nn.Dense(256, activation='relu')\n",
    "        self.output = nn.Dense(10)\n",
    "    def forward(self, x):\n",
    "        return self.output(self.hidden(x))"
   ]
  },
  {
   "cell_type": "markdown",
   "id": "e5d91f26",
   "metadata": {},
   "source": [
    "#### 实例化MLP类得到模型变量net。其中net(X)会自动调用MLP继承自Block类的__call__函数，这个函数将调用MLP类定义的forward函数来完成前向计算。"
   ]
  },
  {
   "cell_type": "code",
   "execution_count": 8,
   "id": "5e306abc",
   "metadata": {},
   "outputs": [
    {
     "data": {
      "text/plain": [
       "\n",
       "[[ 0.02394443  0.05150647  0.01035163 -0.06435341 -0.05801985  0.064192\n",
       "   0.04472664 -0.01852541 -0.03237379  0.07389369]\n",
       " [ 0.05207362  0.04186264  0.04021508 -0.06558423 -0.02249499  0.0341314\n",
       "   0.02135914 -0.06898528  0.02329672  0.0033668 ]]\n",
       "<NDArray 2x10 @cpu(0)>"
      ]
     },
     "execution_count": 8,
     "metadata": {},
     "output_type": "execute_result"
    }
   ],
   "source": [
    "X = nd.random.uniform(shape=(2, 20))\n",
    "net = MLP()\n",
    "net.initialize()\n",
    "net(X)"
   ]
  },
  {
   "cell_type": "markdown",
   "id": "55b819d8",
   "metadata": {},
   "source": [
    "#### 定义一个与Sequential类有相同功能的MySequential类。"
   ]
  },
  {
   "cell_type": "code",
   "execution_count": 9,
   "id": "1bc19815",
   "metadata": {},
   "outputs": [],
   "source": [
    "class MySequential(nn.Block):\n",
    "    def __init__(self, **kwargs):\n",
    "        super(MySequential, self).__init__(**kwargs)\n",
    "    \n",
    "    def add(self, block):\n",
    "        \"\"\"block是Block子类实例，假设它有一个独一无二的名字。我们将它保存在Block类的成员变量_children里，\n",
    "        其类型是OrderedDict。当MySequential实例调用initialize函数时，\n",
    "        系统会自动对_children变量里的所有成员初始化\"\"\"\n",
    "        self._children[block.name] = block\n",
    "    \n",
    "    def forward(self, x):\n",
    "        \"\"\"OrderedDict会保证按照成员添加时的顺序遍历成员\"\"\"\n",
    "        for block in self._children.values():\n",
    "            x = block(x)\n",
    "        return x"
   ]
  },
  {
   "cell_type": "code",
   "execution_count": 10,
   "id": "f868ea5a",
   "metadata": {},
   "outputs": [
    {
     "data": {
      "text/plain": [
       "\n",
       "[[-0.03358278  0.00098312  0.03334405 -0.00663612  0.07881726 -0.01704565\n",
       "  -0.01302506 -0.05449733  0.04149391  0.00170795]\n",
       " [ 0.01879605 -0.04185785  0.02918838 -0.00970372  0.05835275 -0.031299\n",
       "  -0.00644606 -0.02542868  0.0442826   0.01446365]]\n",
       "<NDArray 2x10 @cpu(0)>"
      ]
     },
     "execution_count": 10,
     "metadata": {},
     "output_type": "execute_result"
    }
   ],
   "source": [
    "net = MySequential()\n",
    "net.add(nn.Dense(256, activation='relu'))\n",
    "net.add(nn.Dense(10))\n",
    "net.initialize()\n",
    "net(X)"
   ]
  },
  {
   "cell_type": "markdown",
   "id": "41cb6440",
   "metadata": {},
   "source": [
    "#### 构造一个稍微复杂一点的网络FancyMLP。在这个网络中，通过get_constant函数创建训练中不被迭代的参数，即常数参数。"
   ]
  },
  {
   "cell_type": "code",
   "execution_count": 14,
   "id": "dde56185",
   "metadata": {},
   "outputs": [],
   "source": [
    "class FancyMLP(nn.Block):\n",
    "    def __init__(self, **kwargs):\n",
    "        super(FancyMLP, self).__init__(**kwargs)\n",
    "        self.rand_weight = self.params.get_constant(\n",
    "            'rand_weight', nd.random.uniform(shape=(20, 20)))\n",
    "        self.dense = nn.Dense(20, activation='relu')\n",
    "        \n",
    "    def forward(self, x):\n",
    "        x = self.dense(x)\n",
    "        x = nd.relu(nd.dot(x, self.rand_weight.data())+1)\n",
    "        x = self.dense(x)\n",
    "        while x.norm().asscalar() > 1:\n",
    "            x/=2\n",
    "        if x.norm().asscalar() < 0.8:\n",
    "            x*=10\n",
    "        return x.sum()"
   ]
  },
  {
   "cell_type": "code",
   "execution_count": 15,
   "id": "bbea349d",
   "metadata": {},
   "outputs": [
    {
     "data": {
      "text/plain": [
       "\n",
       "[26.667124]\n",
       "<NDArray 1 @cpu(0)>"
      ]
     },
     "execution_count": 15,
     "metadata": {},
     "output_type": "execute_result"
    }
   ],
   "source": [
    "net = FancyMLP()\n",
    "net.initialize()\n",
    "net(X)"
   ]
  },
  {
   "cell_type": "code",
   "execution_count": 16,
   "id": "f26e1bc9",
   "metadata": {},
   "outputs": [],
   "source": [
    "class NestMLP(nn.Block):\n",
    "    def __init__(self, **kwargs):\n",
    "        super(NestMLP, self).__init__(**kwargs)\n",
    "        self.net = nn.Sequential()\n",
    "        self.net.add(nn.Dense(64, activation='relu'),\n",
    "                    nn.Dense(32, activation='relu'))\n",
    "        self.dense = nn.Dense(16, activation='relu')\n",
    "        \n",
    "    def forward(self, x):\n",
    "        return self.dense(self.net(x))"
   ]
  },
  {
   "cell_type": "code",
   "execution_count": 17,
   "id": "a5f4985c",
   "metadata": {},
   "outputs": [
    {
     "data": {
      "text/plain": [
       "\n",
       "[26.0023]\n",
       "<NDArray 1 @cpu(0)>"
      ]
     },
     "execution_count": 17,
     "metadata": {},
     "output_type": "execute_result"
    }
   ],
   "source": [
    "net = nn.Sequential()\n",
    "net.add(NestMLP(), nn.Dense(20), FancyMLP())\n",
    "net.initialize()\n",
    "net(X)"
   ]
  }
 ],
 "metadata": {
  "kernelspec": {
   "display_name": "py36_gluon",
   "language": "python",
   "name": "py36_gluon"
  },
  "language_info": {
   "codemirror_mode": {
    "name": "ipython",
    "version": 3
   },
   "file_extension": ".py",
   "mimetype": "text/x-python",
   "name": "python",
   "nbconvert_exporter": "python",
   "pygments_lexer": "ipython3",
   "version": "3.6.2"
  }
 },
 "nbformat": 4,
 "nbformat_minor": 5
}
