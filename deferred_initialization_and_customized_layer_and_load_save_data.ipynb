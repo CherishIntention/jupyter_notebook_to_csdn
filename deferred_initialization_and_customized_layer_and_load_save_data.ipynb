{
 "cells": [
  {
   "cell_type": "markdown",
   "id": "46d5d970",
   "metadata": {},
   "source": [
    "### 模型参数的延后初始化"
   ]
  },
  {
   "cell_type": "markdown",
   "id": "6a714c6c",
   "metadata": {},
   "source": [
    "#### 系统将真正的参数初始化延后到获得足够多的信息之后才执行的行为叫延后初始化（deferred initialization）。它可以使得模型的创建变得更加简单：只需定义每层输出，不需要人工推测输入个数。这对于定义多大数十甚至数百层的网络来说尤其方便。但是延后初始化也可能带来一些困扰。在第一次前向计算之前，我们无法直接操作模型参数，例如无法使用data函数和set_data函数来获取和修改参数。因此，我们经常会做一次额外的前向计算来迫使模型被真正地初始化。"
   ]
  },
  {
   "cell_type": "code",
   "execution_count": 23,
   "id": "4ccf5007",
   "metadata": {},
   "outputs": [],
   "source": [
    "from mxnet import nd, init\n",
    "from mxnet.gluon import nn"
   ]
  },
  {
   "cell_type": "code",
   "execution_count": 24,
   "id": "919803a6",
   "metadata": {},
   "outputs": [],
   "source": [
    "class MyInit(init.Initializer):\n",
    "    def _init_weight(self, name, data):\n",
    "        print('Init', name, data.shape)\n",
    "        # 实际的初始化逻辑在此省略了"
   ]
  },
  {
   "cell_type": "code",
   "execution_count": 25,
   "id": "baf55c7b",
   "metadata": {},
   "outputs": [],
   "source": [
    "net = nn.Sequential()\n",
    "net.add(nn.Dense(256, activation='relu'),\n",
    "       nn.Dense(10))\n",
    "net.initialize(init=MyInit())"
   ]
  },
  {
   "cell_type": "markdown",
   "id": "18d603c1",
   "metadata": {},
   "source": [
    "#### 由上面的运行可知，调用initialize函数时，并没有真正初始化模型参数。下面定义输入并执行一次前向计算。"
   ]
  },
  {
   "cell_type": "code",
   "execution_count": 26,
   "id": "17adcc23",
   "metadata": {},
   "outputs": [
    {
     "name": "stdout",
     "output_type": "stream",
     "text": [
      "Init dense7_weight (256, 20)\n",
      "Init dense8_weight (10, 256)\n"
     ]
    }
   ],
   "source": [
    "X = nd.random.uniform(shape=(2, 20))\n",
    "Y = net(X)"
   ]
  },
  {
   "cell_type": "markdown",
   "id": "0e64c65c",
   "metadata": {},
   "source": [
    "#### 在根据输入做前向计算时，系统能够根据输入的形状自动推断出所有层的权重参数的形状。系统在创建这些参数之后，调用MyInit实例对它们进行初始化，然后才进行前向计算。当然，这种初始化只会在第一次前向计算时被调用，之后再进行前向计算时，不会重新初始化。"
   ]
  },
  {
   "cell_type": "code",
   "execution_count": 27,
   "id": "487bcc7c",
   "metadata": {},
   "outputs": [],
   "source": [
    "Y = net(X)"
   ]
  },
  {
   "cell_type": "markdown",
   "id": "ca7f1ef4",
   "metadata": {},
   "source": [
    "#### 避免延后初始化。如果系统在调用initialize函数时能够知道所以参数的形状，那么延后初始化就不会发生。有两种情况不会出现延后初始化。"
   ]
  },
  {
   "cell_type": "markdown",
   "id": "3000afcc",
   "metadata": {},
   "source": [
    "##### 第一种情况是我们要对已初始化的模型重新进行初始化时。这时，由于模型参数的形状不会发生改变，所以系统能够立即进行重新初始化。"
   ]
  },
  {
   "cell_type": "code",
   "execution_count": 28,
   "id": "40696b77",
   "metadata": {},
   "outputs": [
    {
     "name": "stdout",
     "output_type": "stream",
     "text": [
      "Init dense7_weight (256, 20)\n",
      "Init dense8_weight (10, 256)\n"
     ]
    }
   ],
   "source": [
    "net.initialize(init=MyInit(), force_reinit=True)"
   ]
  },
  {
   "cell_type": "markdown",
   "id": "9fd18d61",
   "metadata": {},
   "source": [
    "##### 第二种情况是我们在创建层的时候指定输入的个数，使系统不需要额外的信息来推测参数的形状。下例中我们通过in_units来指定每个全连接层的输入个数，使初始化能够在initialize函数调用时立即发生。"
   ]
  },
  {
   "cell_type": "code",
   "execution_count": 29,
   "id": "f715a7c7",
   "metadata": {},
   "outputs": [
    {
     "name": "stdout",
     "output_type": "stream",
     "text": [
      "Init dense9_weight (256, 20)\n",
      "Init dense10_weight (10, 256)\n"
     ]
    }
   ],
   "source": [
    "net = nn.Sequential()\n",
    "net.add(nn.Dense(256, in_units=20, activation='relu'),\n",
    "       nn.Dense(10, in_units=256))\n",
    "net.initialize(init=MyInit())"
   ]
  },
  {
   "cell_type": "markdown",
   "id": "4f6d8a9f",
   "metadata": {},
   "source": [
    "### 自定义层"
   ]
  },
  {
   "cell_type": "markdown",
   "id": "7ba16e62",
   "metadata": {},
   "source": [
    "#### 不含模型参数的自定义层。下面这个CenteredLayer类通过继承Block类定义了一个将输入减去均值之后输出的层，并将层的计算定义在了forward函数里。这个层里不含模型参数。"
   ]
  },
  {
   "cell_type": "code",
   "execution_count": 30,
   "id": "8d9533d5",
   "metadata": {},
   "outputs": [],
   "source": [
    "from mxnet import gluon, nd\n",
    "from mxnet.gluon import nn"
   ]
  },
  {
   "cell_type": "code",
   "execution_count": 31,
   "id": "5c01e5db",
   "metadata": {},
   "outputs": [],
   "source": [
    "class CenteredLayer(nn.Block):\n",
    "    def __init__(self, **kwargs):\n",
    "        super(CenteredLayer, self).__init__(**kwargs)\n",
    "    \n",
    "    \n",
    "    def forward(self, x):\n",
    "        return x-x.mean()"
   ]
  },
  {
   "cell_type": "markdown",
   "id": "793604b8",
   "metadata": {},
   "source": [
    "#### 实例化，并进行前向计算"
   ]
  },
  {
   "cell_type": "code",
   "execution_count": 32,
   "id": "71e179dc",
   "metadata": {},
   "outputs": [
    {
     "data": {
      "text/plain": [
       "\n",
       "[-2. -1.  0.  1.  2.]\n",
       "<NDArray 5 @cpu(0)>"
      ]
     },
     "execution_count": 32,
     "metadata": {},
     "output_type": "execute_result"
    }
   ],
   "source": [
    "layer = CenteredLayer()\n",
    "layer(nd.array([1, 2, 3, 4, 5]))"
   ]
  },
  {
   "cell_type": "markdown",
   "id": "2ddcde83",
   "metadata": {},
   "source": [
    "#### 也可以构造更加复杂的模型"
   ]
  },
  {
   "cell_type": "code",
   "execution_count": 33,
   "id": "2ac3706b",
   "metadata": {},
   "outputs": [],
   "source": [
    "net = nn.Sequential()\n",
    "net.add(nn.Dense(128),\n",
    "       CenteredLayer())\n",
    "net.initialize()"
   ]
  },
  {
   "cell_type": "markdown",
   "id": "4de88af2",
   "metadata": {},
   "source": [
    "#### 打印自定义层各个输出的均值。因为均值是浮点数，所以它是一个很接近0的数。"
   ]
  },
  {
   "cell_type": "code",
   "execution_count": 34,
   "id": "3a60a841",
   "metadata": {},
   "outputs": [
    {
     "data": {
      "text/plain": [
       "4.7293724e-11"
      ]
     },
     "execution_count": 34,
     "metadata": {},
     "output_type": "execute_result"
    }
   ],
   "source": [
    "y = net(nd.random.uniform(shape=(4, 8)))\n",
    "y.mean().asscalar()"
   ]
  },
  {
   "cell_type": "markdown",
   "id": "d111237d",
   "metadata": {},
   "source": [
    "#### 含模型参数的自定义层。在自定义含模型参数的层时，可以利用Block类自带的ParameterDict类型的成员变量params。它是一个由字符串类型的参数名字映射到Parameter类型的模型参数的字典。我们可以通过get函数从ParameterDict创建Parameter实例。"
   ]
  },
  {
   "cell_type": "code",
   "execution_count": 35,
   "id": "6bfd6ade",
   "metadata": {},
   "outputs": [
    {
     "data": {
      "text/plain": [
       "(\n",
       "  Parameter param2 (shape=(2, 3), dtype=<class 'numpy.float32'>)\n",
       ")"
      ]
     },
     "execution_count": 35,
     "metadata": {},
     "output_type": "execute_result"
    }
   ],
   "source": [
    "params = gluon.ParameterDict()\n",
    "params.get(\"param2\", shape=(2, 3))\n",
    "params"
   ]
  },
  {
   "cell_type": "markdown",
   "id": "a9399f3d",
   "metadata": {},
   "source": [
    "#### 尝试实现一个含权重参数和偏差参数的全连接层。它使用ReLU函数作为激活函数，其中in_units和units分别代表输入个数和输出个数。"
   ]
  },
  {
   "cell_type": "code",
   "execution_count": 36,
   "id": "a6b64ce2",
   "metadata": {},
   "outputs": [],
   "source": [
    "class MyDense(nn.Block):\n",
    "    def __init__(self, units, in_units, **kwargs):\n",
    "        super(MyDense, self).__init__(**kwargs)\n",
    "        self.weight = self.params.get('weight', shape=(in_units, units))\n",
    "        self.bias = self.params.get('bias', shape=(units, ))\n",
    "        \n",
    "    def forward(self, x):\n",
    "        linear = nd.dot(x, self.weight.data()) + self.bias.data()\n",
    "        return nd.relu(linear)"
   ]
  },
  {
   "cell_type": "markdown",
   "id": "de8520c6",
   "metadata": {},
   "source": [
    "#### 实例化MyDense类，并访问它的模型参数。"
   ]
  },
  {
   "cell_type": "code",
   "execution_count": 37,
   "id": "b79b4a99",
   "metadata": {},
   "outputs": [
    {
     "data": {
      "text/plain": [
       "mydense1_ (\n",
       "  Parameter mydense1_weight (shape=(5, 3), dtype=<class 'numpy.float32'>)\n",
       "  Parameter mydense1_bias (shape=(3,), dtype=<class 'numpy.float32'>)\n",
       ")"
      ]
     },
     "execution_count": 37,
     "metadata": {},
     "output_type": "execute_result"
    }
   ],
   "source": [
    "dense = MyDense(units=3, in_units=5)\n",
    "dense.params"
   ]
  },
  {
   "cell_type": "markdown",
   "id": "7ba54f3c",
   "metadata": {},
   "source": [
    "#### 使用自定义层做前向计算"
   ]
  },
  {
   "cell_type": "code",
   "execution_count": 38,
   "id": "ee9ee7a4",
   "metadata": {},
   "outputs": [
    {
     "data": {
      "text/plain": [
       "\n",
       "[[0.         0.         0.06959771]\n",
       " [0.01722693 0.         0.02132036]]\n",
       "<NDArray 2x3 @cpu(0)>"
      ]
     },
     "execution_count": 38,
     "metadata": {},
     "output_type": "execute_result"
    }
   ],
   "source": [
    "dense.initialize()\n",
    "dense(nd.random.uniform(shape=(2, 5)))"
   ]
  },
  {
   "cell_type": "markdown",
   "id": "9fa7dc93",
   "metadata": {},
   "source": [
    "#### 使用自定义层构造模型，它和Gluon的其它层在使用上类似。"
   ]
  },
  {
   "cell_type": "code",
   "execution_count": 39,
   "id": "67b5e217",
   "metadata": {},
   "outputs": [
    {
     "data": {
      "text/plain": [
       "\n",
       "[[ 0.0092427 ]\n",
       " [-0.00526328]]\n",
       "<NDArray 2x1 @cpu(0)>"
      ]
     },
     "execution_count": 39,
     "metadata": {},
     "output_type": "execute_result"
    }
   ],
   "source": [
    "net = nn.Sequential()\n",
    "net.add(nn.Dense(8, in_units=64),\n",
    "       nn.Dense(1, in_units=8))\n",
    "net.initialize()\n",
    "net(nd.random.uniform(shape=(2, 64)))"
   ]
  },
  {
   "cell_type": "markdown",
   "id": "7fdd1180",
   "metadata": {},
   "source": [
    "### 读取和存储"
   ]
  },
  {
   "cell_type": "markdown",
   "id": "5c2c0866",
   "metadata": {},
   "source": [
    "#### 有时候需要把训练好的模型部署到很多不同的设备。在这种情况下，可以把内存中训练好的模型参数存储在硬盘上供后续读取使用。"
   ]
  },
  {
   "cell_type": "markdown",
   "id": "edd9b807",
   "metadata": {},
   "source": [
    "#### 读写NDArray。可以直接使用save函数和load函数分别存储和读取NDArray。"
   ]
  },
  {
   "cell_type": "code",
   "execution_count": 40,
   "id": "20e596e2",
   "metadata": {},
   "outputs": [],
   "source": [
    "from mxnet import nd\n",
    "from mxnet.gluon import nn"
   ]
  },
  {
   "cell_type": "code",
   "execution_count": 41,
   "id": "7afc3f94",
   "metadata": {},
   "outputs": [],
   "source": [
    "x = nd.ones(3)\n",
    "nd.save('x', x)"
   ]
  },
  {
   "cell_type": "markdown",
   "id": "bbb86398",
   "metadata": {},
   "source": [
    "#### 将数据从存储的文件读回内存"
   ]
  },
  {
   "cell_type": "code",
   "execution_count": 42,
   "id": "49e829f1",
   "metadata": {},
   "outputs": [
    {
     "data": {
      "text/plain": [
       "[\n",
       " [1. 1. 1.]\n",
       " <NDArray 3 @cpu(0)>]"
      ]
     },
     "execution_count": 42,
     "metadata": {},
     "output_type": "execute_result"
    }
   ],
   "source": [
    "x2 = nd.load('x')\n",
    "x2"
   ]
  },
  {
   "cell_type": "markdown",
   "id": "0aafe15d",
   "metadata": {},
   "source": [
    "#### 存储一列NDArray并读回内存"
   ]
  },
  {
   "cell_type": "code",
   "execution_count": 43,
   "id": "b83658bb",
   "metadata": {},
   "outputs": [
    {
     "data": {
      "text/plain": [
       "(\n",
       " [1. 1. 1.]\n",
       " <NDArray 3 @cpu(0)>,\n",
       " \n",
       " [0. 0. 0. 0.]\n",
       " <NDArray 4 @cpu(0)>)"
      ]
     },
     "execution_count": 43,
     "metadata": {},
     "output_type": "execute_result"
    }
   ],
   "source": [
    "y = nd.zeros(4)\n",
    "nd.save('xy', [x, y])\n",
    "x2, y2 = nd.load('xy')\n",
    "(x2, y2)"
   ]
  },
  {
   "cell_type": "markdown",
   "id": "6f087f79",
   "metadata": {},
   "source": [
    "#### 存储并读取一个从字符串映射到NDArray的字典"
   ]
  },
  {
   "cell_type": "code",
   "execution_count": 44,
   "id": "56351be0",
   "metadata": {},
   "outputs": [
    {
     "data": {
      "text/plain": [
       "{'x': \n",
       " [1. 1. 1.]\n",
       " <NDArray 3 @cpu(0)>,\n",
       " 'y': \n",
       " [0. 0. 0. 0.]\n",
       " <NDArray 4 @cpu(0)>}"
      ]
     },
     "execution_count": 44,
     "metadata": {},
     "output_type": "execute_result"
    }
   ],
   "source": [
    "mydict = {'x':x, 'y':y}\n",
    "nd.save('mydict', mydict)\n",
    "mydict2 = nd.load('mydict')\n",
    "mydict2"
   ]
  },
  {
   "cell_type": "markdown",
   "id": "223b17ac",
   "metadata": {},
   "source": [
    "#### 读写Gluon模型的参数。Gluon的Block类提供了save_parameters函数和load_parameters函数来读写模型参数。"
   ]
  },
  {
   "cell_type": "code",
   "execution_count": 45,
   "id": "da6c7bb5",
   "metadata": {},
   "outputs": [],
   "source": [
    "class MLP(nn.Block):\n",
    "    def __init__(self, **kwargs):\n",
    "        super(MLP, self).__init__(**kwargs)\n",
    "        self.hidden = nn.Dense(256, activation='relu')\n",
    "        self.output = nn.Dense(10)\n",
    "        \n",
    "    \n",
    "    def forward(self, x):\n",
    "        return self.output(self.hidden(x))"
   ]
  },
  {
   "cell_type": "code",
   "execution_count": 46,
   "id": "3335b5dd",
   "metadata": {},
   "outputs": [],
   "source": [
    "net = MLP()\n",
    "net.initialize()\n",
    "X = nd.random.uniform(shape=(2, 20))\n",
    "Y = net(X)"
   ]
  },
  {
   "cell_type": "code",
   "execution_count": 47,
   "id": "0048ead5",
   "metadata": {},
   "outputs": [],
   "source": [
    "filename = 'mlp.params'\n",
    "net.save_parameters(filename)"
   ]
  },
  {
   "cell_type": "code",
   "execution_count": 48,
   "id": "653506fe",
   "metadata": {},
   "outputs": [],
   "source": [
    "net2 = MLP()\n",
    "net2.load_parameters(filename)"
   ]
  },
  {
   "cell_type": "code",
   "execution_count": 49,
   "id": "5fe7dbef",
   "metadata": {},
   "outputs": [
    {
     "data": {
      "text/plain": [
       "\n",
       "[[1. 1. 1. 1. 1. 1. 1. 1. 1. 1.]\n",
       " [1. 1. 1. 1. 1. 1. 1. 1. 1. 1.]]\n",
       "<NDArray 2x10 @cpu(0)>"
      ]
     },
     "execution_count": 49,
     "metadata": {},
     "output_type": "execute_result"
    }
   ],
   "source": [
    "Y2 = net2(X)\n",
    "Y2 == Y"
   ]
  },
  {
   "cell_type": "code",
   "execution_count": 50,
   "id": "15d15626",
   "metadata": {},
   "outputs": [
    {
     "data": {
      "text/plain": [
       "cpu(0)"
      ]
     },
     "execution_count": 50,
     "metadata": {},
     "output_type": "execute_result"
    }
   ],
   "source": [
    "Y.context"
   ]
  }
 ],
 "metadata": {
  "kernelspec": {
   "display_name": "py36_gluon",
   "language": "python",
   "name": "py36_gluon"
  },
  "language_info": {
   "codemirror_mode": {
    "name": "ipython",
    "version": 3
   },
   "file_extension": ".py",
   "mimetype": "text/x-python",
   "name": "python",
   "nbconvert_exporter": "python",
   "pygments_lexer": "ipython3",
   "version": "3.6.2"
  }
 },
 "nbformat": 4,
 "nbformat_minor": 5
}
