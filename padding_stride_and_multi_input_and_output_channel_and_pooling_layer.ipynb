{
 "cells": [
  {
   "cell_type": "markdown",
   "id": "8b537035",
   "metadata": {},
   "source": [
    "### 填充和步幅"
   ]
  },
  {
   "cell_type": "markdown",
   "id": "8a5128dd",
   "metadata": {},
   "source": [
    "##### 填充"
   ]
  },
  {
   "cell_type": "markdown",
   "id": "3ee5acbf",
   "metadata": {},
   "source": [
    "#### 填充（padding）是指在输入高和宽的两侧填充元素（通常是0元素）。"
   ]
  },
  {
   "cell_type": "code",
   "execution_count": 1,
   "id": "cd7d4fdb",
   "metadata": {},
   "outputs": [],
   "source": [
    "from mxnet import nd\n",
    "from mxnet.gluon import nn"
   ]
  },
  {
   "cell_type": "code",
   "execution_count": 3,
   "id": "c7301b29",
   "metadata": {},
   "outputs": [],
   "source": [
    "def comp_conv2d(conv2d, X):\n",
    "    \"\"\"此函数用来计算卷积层。它初始化卷积层权重，并对输入和输出做相应的升维和降维。\"\"\"\n",
    "    conv2d.initialize()\n",
    "    X = X.reshape((1, 1)+X.shape)  # (1, 1)代表批量大小和通道数均为1\n",
    "    Y = conv2d(X)\n",
    "    return Y.reshape(Y.shape[2:])  # 排除不关心的前两维：批量和通道"
   ]
  },
  {
   "cell_type": "code",
   "execution_count": 5,
   "id": "420c744b",
   "metadata": {},
   "outputs": [
    {
     "data": {
      "text/plain": [
       "(8, 8)"
      ]
     },
     "execution_count": 5,
     "metadata": {},
     "output_type": "execute_result"
    }
   ],
   "source": [
    "conv2d = nn.Conv2D(1, kernel_size=3, padding=1)  # 这里表示两侧分别填充1行或列，所以在两侧一共填充2行或列\n",
    "X = nd.random.uniform(shape=(8, 8))\n",
    "comp_conv2d(conv2d, X).shape"
   ]
  },
  {
   "cell_type": "markdown",
   "id": "c3438f23",
   "metadata": {},
   "source": [
    "#### 当卷积核的高和宽不同时，可以通过设置高和宽上不同的填充数使输入和输出具有相同的高和宽。"
   ]
  },
  {
   "cell_type": "code",
   "execution_count": 7,
   "id": "30fbf87f",
   "metadata": {},
   "outputs": [
    {
     "data": {
      "text/plain": [
       "(8, 8)"
      ]
     },
     "execution_count": 7,
     "metadata": {},
     "output_type": "execute_result"
    }
   ],
   "source": [
    "# 使用高和宽分别为5和3的卷积核。在高和宽两侧的填充数分别为2和1\n",
    "conv2d = nn.Conv2D(1, kernel_size=(5, 3), padding=(2, 1))\n",
    "comp_conv2d(conv2d, X).shape"
   ]
  },
  {
   "cell_type": "markdown",
   "id": "06a167c3",
   "metadata": {},
   "source": [
    "##### 步幅"
   ]
  },
  {
   "cell_type": "markdown",
   "id": "48f366ee",
   "metadata": {},
   "source": [
    "#### 卷积窗口从输入数组的左上角开始，按从左向右、从上向下的顺序，以此在输入数组上滑动。我们将每次滑动的行数和列数称为步幅（stride）。"
   ]
  },
  {
   "cell_type": "code",
   "execution_count": 9,
   "id": "a610c74f",
   "metadata": {},
   "outputs": [
    {
     "data": {
      "text/plain": [
       "(4, 4)"
      ]
     },
     "execution_count": 9,
     "metadata": {},
     "output_type": "execute_result"
    }
   ],
   "source": [
    "conv2d = nn.Conv2D(1, kernel_size=3, strides=2, padding=1)\n",
    "comp_conv2d(conv2d, X).shape"
   ]
  },
  {
   "cell_type": "code",
   "execution_count": 10,
   "id": "b5f47ece",
   "metadata": {},
   "outputs": [
    {
     "data": {
      "text/plain": [
       "(2, 2)"
      ]
     },
     "execution_count": 10,
     "metadata": {},
     "output_type": "execute_result"
    }
   ],
   "source": [
    "conv2d = nn.Conv2D(1, kernel_size=(3, 5), strides=(3, 4), padding=(0, 1))\n",
    "comp_conv2d(conv2d, X).shape"
   ]
  },
  {
   "cell_type": "markdown",
   "id": "d55f5ce9",
   "metadata": {},
   "source": [
    "### 多输入通道和多输出通道"
   ]
  },
  {
   "cell_type": "markdown",
   "id": "6132b727",
   "metadata": {},
   "source": [
    "#### 前面所介绍的输入和输出都是二维数组，但真是的数据维度往往更高。例如，彩色图像在高和宽2个维度之外还有RGB3个颜色通道。"
   ]
  },
  {
   "cell_type": "markdown",
   "id": "38e3a1de",
   "metadata": {},
   "source": [
    "###### 多输入通道"
   ]
  },
  {
   "cell_type": "markdown",
   "id": "78f3c88b",
   "metadata": {},
   "source": [
    "#### 当输入数据含有多个通道时，需要构造一个输入通道数与输入数据的通道数相同的卷积核，从而能够与含多通道的输入数据做互相关运算。"
   ]
  },
  {
   "cell_type": "code",
   "execution_count": 11,
   "id": "28b59315",
   "metadata": {},
   "outputs": [],
   "source": [
    "import d2lzh as d2l\n",
    "from mxnet import nd"
   ]
  },
  {
   "cell_type": "code",
   "execution_count": 14,
   "id": "a8929584",
   "metadata": {},
   "outputs": [],
   "source": [
    "def corr2d_multi_in(X, K):\n",
    "    # 首先沿着X和K的第0维进行遍历。然后使用*将结果列表转换为位置参数传递给add_n函数来进行相加。\n",
    "    return nd.add_n(*[d2l.corr2d(x, k) for x, k in zip(X, K)])"
   ]
  },
  {
   "cell_type": "code",
   "execution_count": 15,
   "id": "3b593f77",
   "metadata": {},
   "outputs": [
    {
     "data": {
      "text/plain": [
       "\n",
       "[[ 56.  72.]\n",
       " [104. 120.]]\n",
       "<NDArray 2x2 @cpu(0)>"
      ]
     },
     "execution_count": 15,
     "metadata": {},
     "output_type": "execute_result"
    }
   ],
   "source": [
    "X = nd.array([[[0, 1, 2], [3, 4, 5], [6, 7, 8]],\n",
    "             [[1, 2, 3], [4, 5, 6], [7, 8, 9]]])\n",
    "K = nd.array([[[0, 1], [2, 3]],\n",
    "             [[1, 2], [3, 4]]])\n",
    "conv2d_multi_in(X, K)"
   ]
  },
  {
   "cell_type": "markdown",
   "id": "4c8a39d5",
   "metadata": {},
   "source": [
    "##### 多输出通道"
   ]
  },
  {
   "cell_type": "markdown",
   "id": "f255d8d0",
   "metadata": {},
   "source": [
    "#### 当输入通道有多个时，由于我们对各个通道的结果做了累加，所以不论输入通道数是多少，输出通道数总是1."
   ]
  },
  {
   "cell_type": "code",
   "execution_count": 16,
   "id": "90d8a901",
   "metadata": {},
   "outputs": [],
   "source": [
    "def corr2d_multi_in_out(X, K):\n",
    "    # 对K的第0维进行遍历，每次与输入X做互相关运算。所有的结果使用stack函数合并在一起。\n",
    "    return nd.stack(*[corr2d_multi_in(X, k) for k in K])"
   ]
  },
  {
   "cell_type": "code",
   "execution_count": 17,
   "id": "f385661a",
   "metadata": {},
   "outputs": [
    {
     "data": {
      "text/plain": [
       "(3, 2, 2, 2)"
      ]
     },
     "execution_count": 17,
     "metadata": {},
     "output_type": "execute_result"
    }
   ],
   "source": [
    "K = nd.stack(K, K+1, K+2)\n",
    "K.shape"
   ]
  },
  {
   "cell_type": "code",
   "execution_count": 18,
   "id": "c3acc745",
   "metadata": {},
   "outputs": [
    {
     "data": {
      "text/plain": [
       "\n",
       "[[[ 56.  72.]\n",
       "  [104. 120.]]\n",
       "\n",
       " [[ 76. 100.]\n",
       "  [148. 172.]]\n",
       "\n",
       " [[ 96. 128.]\n",
       "  [192. 224.]]]\n",
       "<NDArray 3x2x2 @cpu(0)>"
      ]
     },
     "execution_count": 18,
     "metadata": {},
     "output_type": "execute_result"
    }
   ],
   "source": [
    "corr2d_multi_in_out(X, K)"
   ]
  },
  {
   "cell_type": "markdown",
   "id": "b9ce6609",
   "metadata": {},
   "source": [
    "##### 1x1卷积层"
   ]
  },
  {
   "cell_type": "markdown",
   "id": "d3e7e0d2",
   "metadata": {},
   "source": [
    "#### 假设将通道维当做特征维，把高和宽两个维度上元素当做数据样本，那么1x1卷积层的作用与全连接层等价。下面使用全连接层中的矩阵乘法来实现1x1卷积。需要在矩阵乘运算前后对数据形状做一些调整。"
   ]
  },
  {
   "cell_type": "code",
   "execution_count": 19,
   "id": "62703bdf",
   "metadata": {},
   "outputs": [],
   "source": [
    "def corr2d_multi_in_out_1x1(X, K):\n",
    "    c_in, h, w = X.shape\n",
    "    c_out = K.shape[0]\n",
    "    X = X.reshape((c_in, h*w))\n",
    "    K = K.reshape((c_out, c_in))\n",
    "    return nd.dot(K, X).reshape((c_out, h, w))"
   ]
  },
  {
   "cell_type": "markdown",
   "id": "ac5f97f6",
   "metadata": {},
   "source": [
    "#### 经验证，做1x1卷积时，以上函数与之前实现的互相关运算函数corr2d_multi_in_out等价。"
   ]
  },
  {
   "cell_type": "code",
   "execution_count": 20,
   "id": "f25ac294",
   "metadata": {},
   "outputs": [
    {
     "data": {
      "text/plain": [
       "True"
      ]
     },
     "execution_count": 20,
     "metadata": {},
     "output_type": "execute_result"
    }
   ],
   "source": [
    "X = nd.random.uniform(shape=(3, 3, 3))\n",
    "K = nd.random.uniform(shape=(2, 3, 1, 1))\n",
    "\n",
    "Y1 = corr2d_multi_in_out_1x1(X, K)\n",
    "Y2 = corr2d_multi_in_out(X, K)\n",
    "\n",
    "(Y1-Y2).norm().asscalar() < 1e-6"
   ]
  },
  {
   "cell_type": "markdown",
   "id": "3aa94dad",
   "metadata": {},
   "source": [
    "#### 在之后的模型中，会看到1x1的卷积层被当做保持高和宽维度形状不变的全连接层使用。于是，可以通过调整网路层之间的通道数来控制模型复杂度。"
   ]
  },
  {
   "cell_type": "markdown",
   "id": "8ae68e7b",
   "metadata": {},
   "source": [
    "### 池化层"
   ]
  },
  {
   "cell_type": "markdown",
   "id": "f4647ea2",
   "metadata": {},
   "source": [
    "#### 池化(pooling)层的提出是为了缓解卷积层对位置的过渡敏感性。在实际图像里，我们感兴趣的物体不会总出现在固定位置：即使我们连续拍摄同一个物体也极有可能出现像素位置上的偏移。这可能导致同一个边缘对应的输出可能出现在卷积输出Y的不同位置，进而对后面的模式识别造成不便。"
   ]
  },
  {
   "cell_type": "markdown",
   "id": "95746994",
   "metadata": {},
   "source": [
    "##### 二维最大池化层和平均池化层"
   ]
  },
  {
   "cell_type": "markdown",
   "id": "b59bfa4a",
   "metadata": {},
   "source": [
    "#### 设卷积层的输入是X、池化层的输出为Y。无论是X[i, j]和X[i, j+1]值不同，还是X[i, j+1]和X[i, j+2]的值不同，池化层均有输出Y[i, j]=1.也就是说，使用2x2最大池化层时，只要卷积层识别的模式在高和宽上移动不超过一个元素，依然可以将它检测出来。"
   ]
  },
  {
   "cell_type": "code",
   "execution_count": 21,
   "id": "73d7cab1",
   "metadata": {},
   "outputs": [],
   "source": [
    "from mxnet import nd\n",
    "from mxnet.gluon import nn"
   ]
  },
  {
   "cell_type": "code",
   "execution_count": 24,
   "id": "530028b9",
   "metadata": {},
   "outputs": [],
   "source": [
    "def pool2d(X, pool_size, mode='max'):\n",
    "    p_h, p_w = pool_size\n",
    "    Y = nd.zeros((X.shape[0]-p_h+1, X.shape[1]-p_w+1))\n",
    "    for i in range(Y.shape[0]):\n",
    "        for j in range(Y.shape[1]):\n",
    "            if mode=='max':\n",
    "                Y[i, j] = (X[i:i+p_h, j:j+p_w]).max()\n",
    "            elif mode=='avg':\n",
    "                Y[i, j] = (X[i:i+p_h, j:j+p_w]).mean()\n",
    "    return Y"
   ]
  },
  {
   "cell_type": "code",
   "execution_count": 25,
   "id": "42dd364d",
   "metadata": {},
   "outputs": [
    {
     "data": {
      "text/plain": [
       "\n",
       "[[4. 5.]\n",
       " [7. 8.]]\n",
       "<NDArray 2x2 @cpu(0)>"
      ]
     },
     "execution_count": 25,
     "metadata": {},
     "output_type": "execute_result"
    }
   ],
   "source": [
    "X = nd.array([[0, 1, 2], [3, 4, 5], [6, 7, 8]])\n",
    "pool2d(X, (2, 2))  # 最大池化"
   ]
  },
  {
   "cell_type": "code",
   "execution_count": 26,
   "id": "ddb7383c",
   "metadata": {},
   "outputs": [
    {
     "data": {
      "text/plain": [
       "\n",
       "[[2. 3.]\n",
       " [5. 6.]]\n",
       "<NDArray 2x2 @cpu(0)>"
      ]
     },
     "execution_count": 26,
     "metadata": {},
     "output_type": "execute_result"
    }
   ],
   "source": [
    "pool2d(X, (2, 2), 'avg')  # 平均池化"
   ]
  },
  {
   "cell_type": "code",
   "execution_count": 27,
   "id": "931d29c3",
   "metadata": {},
   "outputs": [
    {
     "data": {
      "text/plain": [
       "\n",
       "[[[0. 1. 2.]\n",
       "  [3. 4. 5.]\n",
       "  [6. 7. 8.]]\n",
       "\n",
       " [[1. 2. 3.]\n",
       "  [4. 5. 6.]\n",
       "  [7. 8. 9.]]]\n",
       "<NDArray 2x3x3 @cpu(0)>"
      ]
     },
     "execution_count": 27,
     "metadata": {},
     "output_type": "execute_result"
    }
   ],
   "source": [
    "nd.stack(X ,X+1)"
   ]
  },
  {
   "cell_type": "code",
   "execution_count": 29,
   "id": "d674d705",
   "metadata": {},
   "outputs": [
    {
     "data": {
      "text/plain": [
       "\n",
       "[[0. 1. 2. 1. 2. 3.]\n",
       " [3. 4. 5. 4. 5. 6.]\n",
       " [6. 7. 8. 7. 8. 9.]]\n",
       "<NDArray 3x6 @cpu(0)>"
      ]
     },
     "execution_count": 29,
     "metadata": {},
     "output_type": "execute_result"
    }
   ],
   "source": [
    "nd.concat(X, X+1, dim=1)"
   ]
  },
  {
   "cell_type": "markdown",
   "id": "87d1410d",
   "metadata": {},
   "source": [
    "##### 填充和步幅"
   ]
  },
  {
   "cell_type": "code",
   "execution_count": 31,
   "id": "e3c77b96",
   "metadata": {},
   "outputs": [
    {
     "data": {
      "text/plain": [
       "\n",
       "[[[[ 0.  1.  2.  3.]\n",
       "   [ 4.  5.  6.  7.]\n",
       "   [ 8.  9. 10. 11.]\n",
       "   [12. 13. 14. 15.]]]]\n",
       "<NDArray 1x1x4x4 @cpu(0)>"
      ]
     },
     "execution_count": 31,
     "metadata": {},
     "output_type": "execute_result"
    }
   ],
   "source": [
    "X = nd.arange(16).reshape((1, 1, 4, 4))\n",
    "X"
   ]
  },
  {
   "cell_type": "markdown",
   "id": "5b4fc793",
   "metadata": {},
   "source": [
    "#### 默认情况下，MaxPool2D实例里步幅和池化窗口的形状相同。下面使用形状为(3,3)的池化窗口，默认获得形状为(3,3)的步幅。"
   ]
  },
  {
   "cell_type": "code",
   "execution_count": 33,
   "id": "c68798a6",
   "metadata": {},
   "outputs": [
    {
     "data": {
      "text/plain": [
       "\n",
       "[[[[10.]]]]\n",
       "<NDArray 1x1x1x1 @cpu(0)>"
      ]
     },
     "execution_count": 33,
     "metadata": {},
     "output_type": "execute_result"
    }
   ],
   "source": [
    "pool2d = nn.MaxPool2D(3)\n",
    "pool2d(X)  # 因为池化层没有模型参数，所以不需要调用参数初始化函数"
   ]
  },
  {
   "cell_type": "markdown",
   "id": "9a25de4a",
   "metadata": {},
   "source": [
    "#### 手动指定步幅和填充"
   ]
  },
  {
   "cell_type": "code",
   "execution_count": 34,
   "id": "3ef41a10",
   "metadata": {},
   "outputs": [
    {
     "data": {
      "text/plain": [
       "\n",
       "[[[[ 5.  7.]\n",
       "   [13. 15.]]]]\n",
       "<NDArray 1x1x2x2 @cpu(0)>"
      ]
     },
     "execution_count": 34,
     "metadata": {},
     "output_type": "execute_result"
    }
   ],
   "source": [
    "pool2d = nn.MaxPool2D(3, strides=2, padding=1)\n",
    "pool2d(X)"
   ]
  },
  {
   "cell_type": "markdown",
   "id": "a30e6aea",
   "metadata": {},
   "source": [
    "#### 指定非正方形的池化窗口，并分别指定高和宽上的填充和步幅。"
   ]
  },
  {
   "cell_type": "code",
   "execution_count": 35,
   "id": "1651b8ab",
   "metadata": {},
   "outputs": [
    {
     "data": {
      "text/plain": [
       "\n",
       "[[[[ 0.  3.]\n",
       "   [ 8. 11.]\n",
       "   [12. 15.]]]]\n",
       "<NDArray 1x1x3x2 @cpu(0)>"
      ]
     },
     "execution_count": 35,
     "metadata": {},
     "output_type": "execute_result"
    }
   ],
   "source": [
    "pool2d = nn.MaxPool2D((2, 3), strides=(2, 3), padding=(1, 2))\n",
    "pool2d(X)"
   ]
  },
  {
   "cell_type": "markdown",
   "id": "4c544cd4",
   "metadata": {},
   "source": [
    "##### 多通道"
   ]
  },
  {
   "cell_type": "markdown",
   "id": "27425003",
   "metadata": {},
   "source": [
    "#### 在处理多通道输入数据时，池化层对每个输入通道分别池化，而不是像卷积层那样将各通道的输入按通道相加。这意味着池化层的输出通道数与输入通道数相等。"
   ]
  },
  {
   "cell_type": "code",
   "execution_count": 36,
   "id": "5f8bf6fe",
   "metadata": {},
   "outputs": [
    {
     "data": {
      "text/plain": [
       "\n",
       "[[[[ 0.  1.  2.  3.]\n",
       "   [ 4.  5.  6.  7.]\n",
       "   [ 8.  9. 10. 11.]\n",
       "   [12. 13. 14. 15.]]\n",
       "\n",
       "  [[ 1.  2.  3.  4.]\n",
       "   [ 5.  6.  7.  8.]\n",
       "   [ 9. 10. 11. 12.]\n",
       "   [13. 14. 15. 16.]]]]\n",
       "<NDArray 1x2x4x4 @cpu(0)>"
      ]
     },
     "execution_count": 36,
     "metadata": {},
     "output_type": "execute_result"
    }
   ],
   "source": [
    "X = nd.concat(X, X+1, dim=1)\n",
    "X"
   ]
  },
  {
   "cell_type": "code",
   "execution_count": 37,
   "id": "088a9cf4",
   "metadata": {},
   "outputs": [
    {
     "data": {
      "text/plain": [
       "\n",
       "[[[[ 5.  7.]\n",
       "   [13. 15.]]\n",
       "\n",
       "  [[ 6.  8.]\n",
       "   [14. 16.]]]]\n",
       "<NDArray 1x2x2x2 @cpu(0)>"
      ]
     },
     "execution_count": 37,
     "metadata": {},
     "output_type": "execute_result"
    }
   ],
   "source": [
    "pool2d = nn.MaxPool2D(3, strides=2, padding=1)\n",
    "pool2d(X)"
   ]
  }
 ],
 "metadata": {
  "kernelspec": {
   "display_name": "py36_gluon",
   "language": "python",
   "name": "py36_gluon"
  },
  "language_info": {
   "codemirror_mode": {
    "name": "ipython",
    "version": 3
   },
   "file_extension": ".py",
   "mimetype": "text/x-python",
   "name": "python",
   "nbconvert_exporter": "python",
   "pygments_lexer": "ipython3",
   "version": "3.6.2"
  }
 },
 "nbformat": 4,
 "nbformat_minor": 5
}
