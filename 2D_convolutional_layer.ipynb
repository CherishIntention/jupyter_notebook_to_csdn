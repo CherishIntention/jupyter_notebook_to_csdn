{
 "cells": [
  {
   "cell_type": "markdown",
   "id": "fe06c75f",
   "metadata": {},
   "source": [
    "### 二维卷积层"
   ]
  },
  {
   "cell_type": "markdown",
   "id": "27056964",
   "metadata": {},
   "source": [
    "#### 卷积神经网络是含有卷积层的神经网络。此文章所介绍的卷积神经网络均使用最常见的二维卷积层。它有高和宽两个空间维度，常用来处理图像数据。"
   ]
  },
  {
   "cell_type": "markdown",
   "id": "a39c8421",
   "metadata": {},
   "source": [
    "##### 二维互相关运算"
   ]
  },
  {
   "cell_type": "markdown",
   "id": "68b7d723",
   "metadata": {},
   "source": [
    "#### 虽然卷积层得名于卷积运算，但我们通常在卷积层中使用更加直观的互相关（cross-correlation）运算.在corr2d函数中实现互相关运算。它接受输入数组X与核数组K，并输出数组Y。"
   ]
  },
  {
   "cell_type": "code",
   "execution_count": 1,
   "id": "df7ffd64",
   "metadata": {},
   "outputs": [],
   "source": [
    "from mxnet import autograd, nd\n",
    "from mxnet.gluon import nn"
   ]
  },
  {
   "cell_type": "code",
   "execution_count": 7,
   "id": "f1c20544",
   "metadata": {},
   "outputs": [],
   "source": [
    "def corr2d(X, K): \n",
    "    h, w = K.shape\n",
    "    Y = nd.zeros((X.shape[0]-h+1, X.shape[1]-w+1))\n",
    "    for i in range(Y.shape[0]):\n",
    "        for j in range(Y.shape[1]):\n",
    "            Y[i, j] = (X[i:i+h, j:j+w]*K).sum()\n",
    "    return Y"
   ]
  },
  {
   "cell_type": "code",
   "execution_count": 8,
   "id": "b1eeb80f",
   "metadata": {},
   "outputs": [
    {
     "data": {
      "text/plain": [
       "\n",
       "[[19. 25.]\n",
       " [37. 43.]]\n",
       "<NDArray 2x2 @cpu(0)>"
      ]
     },
     "execution_count": 8,
     "metadata": {},
     "output_type": "execute_result"
    }
   ],
   "source": [
    "X = nd.array([[0, 1, 2], [3, 4, 5], [6, 7, 8]])\n",
    "K = nd.array([[0, 1], [2, 3]])\n",
    "corr2d(X, K)"
   ]
  },
  {
   "cell_type": "markdown",
   "id": "80c15dc0",
   "metadata": {},
   "source": [
    "#### 二维卷积层。下面基于corr2d函数来实现一个自定义的二维卷积层。前向计算函数forward直接调用corr2d函数再加上偏差。"
   ]
  },
  {
   "cell_type": "code",
   "execution_count": 9,
   "id": "9259c3c1",
   "metadata": {},
   "outputs": [],
   "source": [
    "class Conv2D(nn.Block):\n",
    "    def __init__(self, kernel_size, **kwargs):\n",
    "        super(Conv2D, self).__init__(**kwargs)\n",
    "        self.weight = self.params.get('weight', shape=kernel_size)\n",
    "        self.bias = self.params.get('bias', shape=(1, ))\n",
    "    \n",
    "    \n",
    "    def forward(self, x):\n",
    "        return corr2d(x, self.weight.data()) + self.bias.data()"
   ]
  },
  {
   "cell_type": "code",
   "execution_count": 11,
   "id": "c38578cc",
   "metadata": {},
   "outputs": [
    {
     "data": {
      "text/plain": [
       "\n",
       "[0.4838046  0.29956347 0.15302546]\n",
       "<NDArray 3 @cpu(0)>"
      ]
     },
     "execution_count": 11,
     "metadata": {},
     "output_type": "execute_result"
    }
   ],
   "source": [
    "(nd.random.normal(shape=(3, )))d"
   ]
  },
  {
   "cell_type": "markdown",
   "id": "911a602a",
   "metadata": {},
   "source": [
    "#### 图像中物体边缘检测.下面来看一个卷积层的简单应用：检测图像中物体边缘，即找到像素变化的位置。首先构造一张6 x 8的图像（即高和宽分别为6像素和8像素的图像）。它的中间4列为黑（0），其余为白（1）。"
   ]
  },
  {
   "cell_type": "code",
   "execution_count": 15,
   "id": "5f8c2abb",
   "metadata": {},
   "outputs": [
    {
     "data": {
      "text/plain": [
       "\n",
       "[ 1.2546344  -0.54877406 -0.68106437]\n",
       "<NDArray 3 @cpu(0)>"
      ]
     },
     "execution_count": 15,
     "metadata": {},
     "output_type": "execute_result"
    }
   ],
   "source": [
    "(nd.random.normal(shape=3))"
   ]
  },
  {
   "cell_type": "code",
   "execution_count": 16,
   "id": "bfbd7056",
   "metadata": {},
   "outputs": [
    {
     "data": {
      "text/plain": [
       "\n",
       "[[1. 1. 0. 0. 0. 0. 1. 1.]\n",
       " [1. 1. 0. 0. 0. 0. 1. 1.]\n",
       " [1. 1. 0. 0. 0. 0. 1. 1.]\n",
       " [1. 1. 0. 0. 0. 0. 1. 1.]\n",
       " [1. 1. 0. 0. 0. 0. 1. 1.]\n",
       " [1. 1. 0. 0. 0. 0. 1. 1.]]\n",
       "<NDArray 6x8 @cpu(0)>"
      ]
     },
     "execution_count": 16,
     "metadata": {},
     "output_type": "execute_result"
    }
   ],
   "source": [
    "X = nd.ones((6, 8))\n",
    "X[:, 2:6] = 0\n",
    "X"
   ]
  },
  {
   "cell_type": "markdown",
   "id": "c8239003",
   "metadata": {},
   "source": [
    "#### 然后构造一个高和宽分别为1和2的卷积核K。当它与输入做互相关运算时，如果横向相邻元素相同，输出为0；否则输出非0."
   ]
  },
  {
   "cell_type": "code",
   "execution_count": 19,
   "id": "648338a4",
   "metadata": {},
   "outputs": [],
   "source": [
    "K = nd.array([[1, -1]])"
   ]
  },
  {
   "cell_type": "code",
   "execution_count": 20,
   "id": "eec4027b",
   "metadata": {},
   "outputs": [
    {
     "data": {
      "text/plain": [
       "\n",
       "[[ 0.  1.  0.  0.  0. -1.  0.]\n",
       " [ 0.  1.  0.  0.  0. -1.  0.]\n",
       " [ 0.  1.  0.  0.  0. -1.  0.]\n",
       " [ 0.  1.  0.  0.  0. -1.  0.]\n",
       " [ 0.  1.  0.  0.  0. -1.  0.]\n",
       " [ 0.  1.  0.  0.  0. -1.  0.]]\n",
       "<NDArray 6x7 @cpu(0)>"
      ]
     },
     "execution_count": 20,
     "metadata": {},
     "output_type": "execute_result"
    }
   ],
   "source": [
    "Y = corr2d(X, K)\n",
    "Y"
   ]
  },
  {
   "cell_type": "markdown",
   "id": "45ff2bc3",
   "metadata": {},
   "source": [
    "#### 从上面的结果可以看出，从白到黑和从黑到白的边缘分别被检测成了1和-1。其余部分的输出全是0。由此，卷积层可以通过重复使用卷积核有效表征局部空间。"
   ]
  },
  {
   "cell_type": "markdown",
   "id": "a738110f",
   "metadata": {},
   "source": [
    "##### 通过数据学习核数组"
   ]
  },
  {
   "cell_type": "markdown",
   "id": "1b4a6f9b",
   "metadata": {},
   "source": [
    "#### 之前构造的Conv2D类，由于corr2d使用了对单个元素赋值([i, j]=)的操作，因而无法自动求梯度。下面我们是用Gluon提供的Conv2D类来实现。"
   ]
  },
  {
   "cell_type": "code",
   "execution_count": 21,
   "id": "608c070f",
   "metadata": {},
   "outputs": [
    {
     "name": "stdout",
     "output_type": "stream",
     "text": [
      "batch 2, loss 10.347\n",
      "batch 4, loss 1.781\n",
      "batch 6, loss 0.317\n",
      "batch 8, loss 0.061\n",
      "batch 10, loss 0.013\n"
     ]
    }
   ],
   "source": [
    "# 构造一个输出通道数为1，核数组形状为（1，2）的二维卷积层\n",
    "conv2d = nn.Conv2D(2, kernel_size=(1, 2))\n",
    "conv2d.initialize()\n",
    "\n",
    "# 二维卷积层使用4维输入，格式为(样本，通道，高，宽)，这里批量大小（批量中的样本数）和通道数均为1\n",
    "X = X.reshape((1, 1, 6, 8))\n",
    "Y = Y.reshape((1, 1, 6, 7))\n",
    "\n",
    "for i in range(10):\n",
    "    with autograd.record():\n",
    "        Y_hat = conv2d(X)\n",
    "        l = (Y_hat - Y) ** 2\n",
    "    l.backward()\n",
    "    # 为简单起见，这里忽略了偏差\n",
    "    conv2d.weight.data()[:] -= 3e-2 * conv2d.weight.grad()\n",
    "    if (i+1)%2 == 0:\n",
    "        print('batch %d, loss %.3f' % (i+1, l.sum().asscalar()))"
   ]
  },
  {
   "cell_type": "markdown",
   "id": "a4556cd4",
   "metadata": {},
   "source": [
    "#### 可以看到迭代10次之后已经降到了一个比较小的值。学习到的核数组入下："
   ]
  },
  {
   "cell_type": "code",
   "execution_count": 22,
   "id": "fa666ad6",
   "metadata": {},
   "outputs": [
    {
     "data": {
      "text/plain": [
       "\n",
       "[[ 0.98359346 -0.99278635]]\n",
       "<NDArray 1x2 @cpu(0)>"
      ]
     },
     "execution_count": 22,
     "metadata": {},
     "output_type": "execute_result"
    }
   ],
   "source": [
    "conv2d.weight.data().reshape((1, 2))"
   ]
  },
  {
   "cell_type": "markdown",
   "id": "29ccfc63",
   "metadata": {},
   "source": [
    "##### 互相关运算和卷积运算"
   ]
  },
  {
   "cell_type": "markdown",
   "id": "ee979830",
   "metadata": {},
   "source": [
    "#### 实际上，卷积运算和互相关运算类似。为了得到卷积运算的输出，我们只需要将核数组左右翻转并上下翻转，再与输入数组做互相关运算。由于在深度学习中，核数组都是学习出来的：卷积层无论使用互相关运算或卷积运算都不影响模型预测时的输出。"
   ]
  },
  {
   "cell_type": "markdown",
   "id": "7c7a8bc6",
   "metadata": {},
   "source": [
    "##### 特征图和感受野"
   ]
  },
  {
   "cell_type": "markdown",
   "id": "86a02cb3",
   "metadata": {},
   "source": [
    "#### 二维卷积层输出的二维数组可以看作输入在空间维度（宽和高）上某一级的表征，也叫特征图（feature map）。影响元素x的前向计算的所有可能输入区域（可能大于输入的实际尺寸）叫做x的感受野（receptive field）.我们经常使用“元素”一词来描述数组或矩阵中的成员，在神经网络术语中，这些元素也可称为“单元”。"
   ]
  }
 ],
 "metadata": {
  "kernelspec": {
   "display_name": "py36_gluon",
   "language": "python",
   "name": "py36_gluon"
  },
  "language_info": {
   "codemirror_mode": {
    "name": "ipython",
    "version": 3
   },
   "file_extension": ".py",
   "mimetype": "text/x-python",
   "name": "python",
   "nbconvert_exporter": "python",
   "pygments_lexer": "ipython3",
   "version": "3.6.2"
  }
 },
 "nbformat": 4,
 "nbformat_minor": 5
}
