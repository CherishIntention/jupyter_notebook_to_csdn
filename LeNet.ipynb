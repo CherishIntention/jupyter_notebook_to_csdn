{
 "cells": [
  {
   "cell_type": "markdown",
   "id": "9dd45082",
   "metadata": {},
   "source": [
    "### 卷积神经网络（LeNet）"
   ]
  },
  {
   "cell_type": "markdown",
   "id": "241c9528",
   "metadata": {},
   "source": [
    "#### 含但隐藏层的多层感知机模型对图像进行分了的方法有一定的局限性。1.图像在同一列邻近的像素在向量中可能相距较远。它们构成的模式可能难以被模型识别。2.对于大尺寸的图像，使用全连接层容易导致模型过大。卷积层尝试解决这两个问题：一方面，卷积层保留输入形状,使图像的像素在宽高两个方向上的相关性均可能被有效识别；另一方面，卷积层通过滑动窗口将同一卷积核与不同位置的输入重复计算，从而避免参数尺寸过大。"
   ]
  },
  {
   "cell_type": "markdown",
   "id": "c15c8750",
   "metadata": {},
   "source": [
    "##### LeNet模型"
   ]
  },
  {
   "cell_type": "markdown",
   "id": "7d8118f0",
   "metadata": {},
   "source": [
    "#### LeNet分为卷积层块和全连接层块两个部分。卷积层块的基本单位是卷积层后接最大池化层：卷积层用来识别图像中的空间模式，如线条和物体局部，之后的最大池化层用来降低卷积层对位置的敏感性。卷积层块的输出形状为（批量大小，通道，高，宽）。当卷积层块的输出传入全连接层块时，全连接层块会将小批量中的每个样本变平（flatten）。也就是说，全连接层的形状变为二维，其中第一维是小批量中的样本，第二维是每个样本变平后的向量表示。"
   ]
  },
  {
   "cell_type": "code",
   "execution_count": 13,
   "id": "0c6ecd11",
   "metadata": {},
   "outputs": [],
   "source": [
    "import time\n",
    "import mxnet as mx\n",
    "import d2lzh as d2l\n",
    "from mxnet import nd, init, gluon, autograd\n",
    "from mxnet.gluon import loss as gloss, nn"
   ]
  },
  {
   "cell_type": "code",
   "execution_count": 14,
   "id": "75578576",
   "metadata": {},
   "outputs": [],
   "source": [
    "net = nn.Sequential()\n",
    "net.add(nn.Conv2D(channels=6, kernel_size=5, activation='sigmoid'),\n",
    "       nn.MaxPool2D(pool_size=2, strides=2),\n",
    "       nn.Conv2D(channels=16, kernel_size=5, activation='sigmoid'),\n",
    "       nn.MaxPool2D(pool_size=2, strides=2),\n",
    "        # Dense会默认将（批量大小，通道，高，宽）形状的输入转换成（批量大小，通道*高*宽）形状的输入\n",
    "       nn.Dense(120, activation='sigmoid'),\n",
    "       nn.Dense(84, activation='sigmoid'),\n",
    "       nn.Dense(10))"
   ]
  },
  {
   "cell_type": "markdown",
   "id": "b56629f4",
   "metadata": {},
   "source": [
    "#### 构造一个高和宽均为28的单通道数据样本，并逐层进行前向计算查看每层的输出形状"
   ]
  },
  {
   "cell_type": "code",
   "execution_count": 16,
   "id": "bbbc5ffd",
   "metadata": {},
   "outputs": [
    {
     "name": "stdout",
     "output_type": "stream",
     "text": [
      "conv0 output shape:\t (1, 6, 24, 24)\n",
      "pool0 output shape:\t (1, 6, 12, 12)\n",
      "conv1 output shape:\t (1, 16, 8, 8)\n",
      "pool1 output shape:\t (1, 16, 4, 4)\n",
      "dense0 output shape:\t (1, 120)\n",
      "dense1 output shape:\t (1, 84)\n",
      "dense2 output shape:\t (1, 10)\n"
     ]
    }
   ],
   "source": [
    "X = nd.random.uniform(shape=(1, 1, 28, 28))\n",
    "net.initialize()\n",
    "for layer in net:\n",
    "    X = layer(X)\n",
    "    print(layer.name, 'output shape:\\t', X.shape)"
   ]
  },
  {
   "cell_type": "markdown",
   "id": "ae0adc36",
   "metadata": {},
   "source": [
    "##### 获取数据和训练模型"
   ]
  },
  {
   "cell_type": "code",
   "execution_count": 35,
   "id": "d3a5e01d",
   "metadata": {},
   "outputs": [],
   "source": [
    "batch_size = 256\n",
    "train_iter, test_iter = d2l.load_data_fashion_mnist(batch_size=batch_size)"
   ]
  },
  {
   "cell_type": "markdown",
   "id": "0c67b510",
   "metadata": {},
   "source": [
    "#### 卷积神经网络计算比多层感知机要复杂，建议使用GPU来加速计算。尝试在gpu(0)上创建NDArray，如果成功则使用gpu(0)，否则仍然使用CPU。"
   ]
  },
  {
   "cell_type": "code",
   "execution_count": 36,
   "id": "7fe8e840",
   "metadata": {},
   "outputs": [],
   "source": [
    "def try_gpu():\n",
    "    try:\n",
    "        ctx = mx.gpu()\n",
    "        _ = nd.zeros((1,), ctx=ctx)\n",
    "    except mx.base.MXNetError:\n",
    "        ctx = mx.cpu()\n",
    "    return ctx"
   ]
  },
  {
   "cell_type": "code",
   "execution_count": 37,
   "id": "8a94e496",
   "metadata": {},
   "outputs": [
    {
     "data": {
      "text/plain": [
       "cpu(0)"
      ]
     },
     "execution_count": 37,
     "metadata": {},
     "output_type": "execute_result"
    }
   ],
   "source": [
    "ctx = try_gpu()\n",
    "ctx"
   ]
  },
  {
   "cell_type": "markdown",
   "id": "a594b372",
   "metadata": {},
   "source": [
    "#### 对“softmax回归的从零开始实现”一节中描述的evaluate_accuracy函数略作修改.当ctx变量代表GPU及相应的显存时，通过as_in_context函数将数据复制到显存上，例如gpu(0)。"
   ]
  },
  {
   "cell_type": "code",
   "execution_count": 38,
   "id": "14d4fe5d",
   "metadata": {},
   "outputs": [],
   "source": [
    "def evaluate_accuracy(data_iter, net, ctx):\n",
    "    acc_sum, n = nd.array([0], ctx=ctx), 0\n",
    "    for X, y in data_iter:\n",
    "        # 如果ctx代表GPU及相应的显存，将数据复制到显存上\n",
    "        X, y = X.as_in_context(ctx), y.as_in_context(ctx).astype('float32')\n",
    "        acc_sum += (net(X).argmax(axis=1) == y).sum()\n",
    "        n += y.size\n",
    "    return acc_sum.asscalar() / n"
   ]
  },
  {
   "cell_type": "markdown",
   "id": "910ee8ff",
   "metadata": {},
   "source": [
    "#### 对train_ch3函数略作修改"
   ]
  },
  {
   "cell_type": "code",
   "execution_count": 39,
   "id": "4952350c",
   "metadata": {},
   "outputs": [],
   "source": [
    "def train_ch5(net, train_iter, test_iter, batch_size, trainer, ctx, num_epochs):\n",
    "    print('training on', ctx)\n",
    "    loss = gloss.SoftmaxCrossEntropyLoss()\n",
    "    for epoch in range(num_epochs):\n",
    "        train_l_sum, train_acc_sum, n, start = 0.0, 0.0, 0, time.time()\n",
    "        for X, y in train_iter:\n",
    "            X, y = X.as_in_context(ctx), y.as_in_context(ctx)\n",
    "            with autograd.record():\n",
    "                y_hat = net(X)\n",
    "                l = loss(y_hat, y).sum()\n",
    "            l.backward()\n",
    "            trainer.step(batch_size)\n",
    "            y = y.astype('float32')\n",
    "            train_l_sum += l.asscalar()\n",
    "            train_acc_sum += (y_hat.argmax(axis=1) == y).sum().asscalar()\n",
    "            n += y.size\n",
    "        test_acc = evaluate_accuracy(test_iter, net, ctx)\n",
    "        print('epoch %d, loss %.4f, train acc %.3f, test acc %.3f, time %.1f sec' % \n",
    "              (epoch + 1, train_l_sum / n, train_acc_sum / n, test_acc, time.time() - start))"
   ]
  },
  {
   "cell_type": "code",
   "execution_count": 40,
   "id": "db3446b1",
   "metadata": {},
   "outputs": [
    {
     "name": "stdout",
     "output_type": "stream",
     "text": [
      "training on cpu(0)\n",
      "epoch 1, loss 2.3193, train acc 0.103, test acc 0.100, time 35.3 sec\n",
      "epoch 2, loss 1.6310, train acc 0.368, test acc 0.610, time 35.3 sec\n",
      "epoch 3, loss 0.9264, train acc 0.636, test acc 0.713, time 37.7 sec\n",
      "epoch 4, loss 0.7382, train acc 0.710, test acc 0.746, time 36.7 sec\n",
      "epoch 5, loss 0.6659, train acc 0.736, test acc 0.763, time 36.5 sec\n"
     ]
    }
   ],
   "source": [
    "lr, num_epochs = 0.9, 5\n",
    "net.initialize(force_reinit=True, ctx=ctx, init=init.Xavier())\n",
    "trainer = gluon.Trainer(net.collect_params(), 'sgd', {'learning_rate': lr})\n",
    "train_ch5(net, train_iter, test_iter, batch_size, trainer, ctx, num_epochs)"
   ]
  }
 ],
 "metadata": {
  "kernelspec": {
   "display_name": "py36_gluon",
   "language": "python",
   "name": "py36_gluon"
  },
  "language_info": {
   "codemirror_mode": {
    "name": "ipython",
    "version": 3
   },
   "file_extension": ".py",
   "mimetype": "text/x-python",
   "name": "python",
   "nbconvert_exporter": "python",
   "pygments_lexer": "ipython3",
   "version": "3.6.2"
  }
 },
 "nbformat": 4,
 "nbformat_minor": 5
}
